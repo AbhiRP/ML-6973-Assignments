{
 "cells": [
  {
   "cell_type": "markdown",
   "metadata": {},
   "source": [
    "# Machine Learning Assignment 2\n",
    "\n",
    "### Abhijith Ravikumar Puthussery (qaw164)"
   ]
  },
  {
   "cell_type": "code",
   "execution_count": 4,
   "metadata": {
    "collapsed": true
   },
   "outputs": [],
   "source": [
    "import math\n",
    "import numpy as np\n",
    "import matplotlib.pyplot as plt\n",
    "%matplotlib inline"
   ]
  },
  {
   "cell_type": "markdown",
   "metadata": {},
   "source": [
    "### Part 1"
   ]
  },
  {
   "cell_type": "markdown",
   "metadata": {},
   "source": [
    "$[W^{1,2}] = \\begin{bmatrix}\n",
    "                -0.18 -0.16 -0.03 -0.15\\\\\n",
    "                0.1666 -0.18 0.01 -0.06\\\\\n",
    "                0.14 -0.14 -0.065 -0.06\\\\\n",
    "            \\end{bmatrix}$\n",
    "$\\quad [W^{2,3}] = \\begin{bmatrix}\n",
    "                  -1.01\\\\\n",
    "                  -1.99\\\\\n",
    "                  -0.25\\\\\n",
    "                  -1.64\n",
    "              \\end{bmatrix}\\\\$\n",
    "##### If $(X_1,X_2) = (2.00,0.26)$ and label $Y=1$, calculate $H(x),e$\n"
   ]
  },
  {
   "cell_type": "code",
   "execution_count": 5,
   "metadata": {
    "collapsed": false
   },
   "outputs": [
    {
     "name": "stdout",
     "output_type": "stream",
     "text": [
      "Layer 1:\n",
      "X1= [ 1.    2.    0.26]\n",
      "Layer 2:\n",
      "W12 = [[-0.18  -0.16  -0.03  -0.15 ]\n",
      " [ 0.166 -0.18   0.01  -0.06 ]\n",
      " [ 0.14  -0.14  -0.065 -0.06 ]]\n"
     ]
    }
   ],
   "source": [
    "# Layer 1:\n",
    "print(\"Layer 1:\")\n",
    "x1 = np.array([1,2.00,0.26]) #Inputs\n",
    "print(\"X1=\", x1)\n",
    "\n",
    "# Layer 2:\n",
    "print(\"Layer 2:\")\n",
    "w12 = np.array([[-0.18,-0.16,-0.03,-0.15],\n",
    "       [0.166,-0.18,0.01,-0.06],\n",
    "       [0.14,-0.14,-0.065,-0.06]])\n",
    "print(\"W12 =\", w12)"
   ]
  },
  {
   "cell_type": "code",
   "execution_count": 6,
   "metadata": {
    "collapsed": false
   },
   "outputs": [
    {
     "name": "stdout",
     "output_type": "stream",
     "text": [
      "Y2 = [ 0.1884 -0.5564 -0.0269 -0.2856]\n",
      "A2 = [ 0.54696118  0.36438084  0.49327541  0.4290814 ]\n",
      "Layer 3:\n",
      "W23 = [-1.01 -1.99 -0.25 -1.64]\n",
      "Z3 = -2.10456100402\n",
      "h(x) = 0.10865430549\n",
      "e = 0.89134569451\n"
     ]
    }
   ],
   "source": [
    "z2 = x1.dot(w12) # z2 = [x1].[w12]\n",
    "print(\"Y2 =\", z2)\n",
    "a2 = 1/(1+np.exp(-z2)) # a2 = f(z2) where f = sigmoid fn\n",
    "print(\"A2 =\", a2)\n",
    "\n",
    "# Layer 3:\n",
    "print(\"Layer 3:\")\n",
    "w23 = np.array([-1.01,-1.99,-0.25,-1.64]).T\n",
    "print(\"W23 =\", w23)\n",
    "\n",
    "z3 = a2.dot(w23) # z3 = [a2].[w23]\n",
    "print(\"Z3 =\", z3)\n",
    "a3 = 1/(1+np.exp(-z3)) # a3 = f(z3) \n",
    "yhat = a3\n",
    "y = 1\n",
    "print(\"h(x) =\", yhat)\n",
    "print(\"e =\", (y-yhat))"
   ]
  },
  {
   "cell_type": "markdown",
   "metadata": {},
   "source": [
    "### Part 2"
   ]
  },
  {
   "cell_type": "markdown",
   "metadata": {},
   "source": [
    "$[W^{ 1,2 }] = \\begin{bmatrix}\n",
    "                12.70 -0.20 -0.74 -0.19\\\\\n",
    "                1.49 -8.85 7.08 -8.29\\\\\n",
    "                -19.85 -2.61 -3.59 -2.70\\\\\n",
    "            \\end{bmatrix}$\n",
    "$\\quad [W^{ 2,3 }] = \\begin{bmatrix}\n",
    "                  7.44\\\\\n",
    "                  2.78\\\\\n",
    "                  -4.31\\\\\n",
    "                  -2.70\n",
    "              \\end{bmatrix}\\\\$\n",
    "##### If $(X_1,X_2) = (2.00,0.26)$ and label $Y=1$, calculate $H(x),e$"
   ]
  },
  {
   "cell_type": "code",
   "execution_count": 7,
   "metadata": {
    "collapsed": false
   },
   "outputs": [
    {
     "name": "stdout",
     "output_type": "stream",
     "text": [
      "Layer 1:\n",
      "X1= [ 1.    2.    0.26]\n",
      "Layer 2:\n",
      "W12 = [[ 12.7   -0.2   -0.74  -0.19]\n",
      " [ -1.49  -8.85   7.08  -8.29]\n",
      " [-19.85  -2.61  -3.59  -2.7 ]]\n",
      "Y2 = [  4.559  -18.5786  12.4866 -17.472 ]\n",
      "A2 = [  9.89636011e-01   8.53918721e-09   9.99996223e-01   2.58230063e-08]\n",
      "Layer 3\n",
      "W23 = [ 7.44  2.78 -4.31  2.7 ]\n",
      "Z3 = 3.05290829314\n",
      "h(x) = 0.954907919892\n",
      "e = 0.0450920801081\n"
     ]
    }
   ],
   "source": [
    "# Layer 1:\n",
    "print(\"Layer 1:\")\n",
    "x2 = np.array([1,2.00,0.26]) #Inputs\n",
    "print(\"X1=\", x2)\n",
    "\n",
    "# Layer 2:\n",
    "print(\"Layer 2:\")\n",
    "w2_12 = np.array([[12.70,-0.20,-0.74,-0.19],\n",
    "       [-1.49,-8.85,7.08,-8.29],\n",
    "       [-19.85,-2.61,-3.59,-2.70]])\n",
    "print(\"W12 =\", w2_12)\n",
    "\n",
    "z2_2 = x2.dot(w2_12) # z2 = [x1].[w12]\n",
    "print(\"Y2 =\", z2_2)\n",
    "a2_2 = 1/(1+np.exp(-z2_2)) # a2 = f(z2) where f = sigmoid fn\n",
    "print(\"A2 =\", a2_2)\n",
    "\n",
    "# Layer 3:\n",
    "print(\"Layer 3\")\n",
    "w2_23 = np.array([7.44,2.78,-4.31,2.70]).T\n",
    "print(\"W23 =\", w2_23)\n",
    "\n",
    "z2_3 = a2_2.dot(w2_23) # z3 = [a2].[w23]\n",
    "print(\"Z3 =\", z2_3)\n",
    "a2_3 = 1/(1+np.exp(-z2_3)) # a3 = f(z3) \n",
    "yhat2 = a2_3\n",
    "print(\"h(x) =\", yhat2)\n",
    "print(\"e =\", (y-yhat2))"
   ]
  }
 ],
 "metadata": {
  "anaconda-cloud": {},
  "kernelspec": {
   "display_name": "Python 3",
   "language": "python",
   "name": "python3"
  },
  "language_info": {
   "codemirror_mode": {
    "name": "ipython",
    "version": 3
   },
   "file_extension": ".py",
   "mimetype": "text/x-python",
   "name": "python",
   "nbconvert_exporter": "python",
   "pygments_lexer": "ipython3",
   "version": "3.4.3"
  }
 },
 "nbformat": 4,
 "nbformat_minor": 0
}
